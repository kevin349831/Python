{
 "cells": [
  {
   "cell_type": "code",
   "execution_count": 684,
   "metadata": {
    "collapsed": false
   },
   "outputs": [],
   "source": [
    "#這部分為：將ＣＳＶ資料新增到ＤＢ\n",
    "\n",
    "#開啟CSV檔案\n",
    "import pandas as pd \n",
    "data = pd.read_csv(\"KK2.csv\")\n",
    "\n",
    "#創建DB_TABLE 把CSV的資料新增到DB\n",
    "import sqlite3\n",
    "conn = sqlite3.connect('test2.db')\n",
    "c = conn.cursor()\n",
    "def create_table():\n",
    "    c.execute('CREATE TABLE IF NOT EXISTS stocks (NAME TEXT, DATE TEXT, PER NUMERIC)')\n",
    "def data_entry():\n",
    "    c.executemany('INSERT INTO stocks VALUES (?,?,?)', data.values)\n",
    "    conn.commit()\n",
    "    c.close()\n",
    "    conn.close()\n",
    "create_table()\n",
    "data_entry()\n"
   ]
  },
  {
   "cell_type": "code",
   "execution_count": null,
   "metadata": {
    "collapsed": false,
    "scrolled": false
   },
   "outputs": [],
   "source": [
    "#這部分為連結ＤＢ查詢並算出平均繪出圖型\n",
    "\n",
    "#連接DB並查詢\n",
    "import sqlite3\n",
    "conn = sqlite3.connect('test2.db')\n",
    "c = conn.cursor()\n",
    "#arr_date 儲存每日日期\n",
    "#arr_avg 儲存每日平均\n",
    "arr_date = []\n",
    "arr_avg = []\n",
    "c.execute('SELECT COUNT(*) FROM stocks ')\n",
    "aa = c.fetchone()\n",
    "#因查詢出來的資料型態是tupel 要使用int()轉型態 (此數值為總筆數)\n",
    "aa = int(aa[0])\n",
    "i = 0\n",
    "while i < aa:\n",
    "    sum = 0\n",
    "    count = str(i)\n",
    "    c.execute('SELECT * FROM stocks ORDER BY DATE LIMIT ?,?', (count,7))\n",
    "    for row in c.fetchall():\n",
    "        sum += row[2]\n",
    "        date = row[1]\n",
    "    arr_date.append(date)\n",
    "    arr_avg.append(round(sum/7,2))\n",
    "    i+=7\n",
    "#繪圖\n",
    "#%pylab inline\n",
    "import matplotlib.pyplot as plt\n",
    "\n",
    "fig  = plt.figure()\n",
    "ax = fig.add_subplot(1,1,1)\n",
    "ax.plot(arr_avg,'r-')\n",
    "plt.show()\n"
   ]
  },
  {
   "cell_type": "code",
   "execution_count": null,
   "metadata": {
    "collapsed": true
   },
   "outputs": [],
   "source": []
  }
 ],
 "metadata": {
  "kernelspec": {
   "display_name": "Python 3",
   "language": "python",
   "name": "python3"
  },
  "language_info": {
   "codemirror_mode": {
    "name": "ipython",
    "version": 3
   },
   "file_extension": ".py",
   "mimetype": "text/x-python",
   "name": "python",
   "nbconvert_exporter": "python",
   "pygments_lexer": "ipython3",
   "version": "3.6.0"
  }
 },
 "nbformat": 4,
 "nbformat_minor": 2
}
